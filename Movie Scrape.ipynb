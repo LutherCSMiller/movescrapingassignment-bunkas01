{
 "cells": [
  {
   "cell_type": "code",
   "execution_count": 12,
   "metadata": {
    "collapsed": true
   },
   "outputs": [],
   "source": [
    "from bs4 import BeautifulSoup\n",
    "import requests\n",
    "import re\n",
    "import pandas as pd"
   ]
  },
  {
   "cell_type": "markdown",
   "metadata": {},
   "source": [
    "### Movie Data\n",
    "1. scrape table on highest grossing movies\n",
    "2. clean data and place in a dictionary\n",
    "5. convert dictionary to a pandas dataframe"
   ]
  },
  {
   "cell_type": "code",
   "execution_count": 7,
   "metadata": {
    "collapsed": false
   },
   "outputs": [],
   "source": [
    "moviepage = requests.get(\"http://www.the-numbers.com/movie/records/All-Time-Domestic-Box-Office\")\n",
    "moviesoup = BeautifulSoup(moviepage.text, \"lxml\")"
   ]
  },
  {
   "cell_type": "markdown",
   "metadata": {},
   "source": [
    "### Format\n",
    "Data will be extracted to a dictionary with keys **year**, **title**, **domestic**, **international**, and **worldwide**. All data except for the title will be converted to integers as part of the cleaning process."
   ]
  },
  {
   "cell_type": "code",
   "execution_count": 17,
   "metadata": {
    "collapsed": false
   },
   "outputs": [],
   "source": [
    "nondecimal = re.compile(r'[^\\d]+')\n",
    "yearlist = []\n",
    "titlelist = []\n",
    "domlist = []\n",
    "interlist = []\n",
    "worldlist = []\n",
    "\n",
    "movierows = moviesoup.find_all('tr')\n",
    "movierows = movierows[1:]\n",
    "\n",
    "for row in movierows:\n",
    "    cols = row.find_all('td')\n",
    "    cols = cols[1:]\n",
    "    \n",
    "    yearlist.append(int(cols[0].text))\n",
    "    titlelist.append(cols[1].text)\n",
    "    domlist.append(int(nondecimal.sub('', cols[2].text)))\n",
    "    interlist.append(int(nondecimal.sub('', cols[3].text)))\n",
    "    worldlist.append(int(nondecimal.sub('', cols[4].text)))\n",
    "    \n",
    "movieDataDict = {}\n",
    "movieDataDict['year'] = yearlist\n",
    "movieDataDict['title'] = titlelist\n",
    "movieDataDict['domestic'] = domlist\n",
    "movieDataDict['international'] = interlist\n",
    "movieDataDict['worldwide'] = worldlist"
   ]
  },
  {
   "cell_type": "markdown",
   "metadata": {},
   "source": [
    "### transform dictionary into DataFrame\n",
    "\n",
    "5. After transforming the data into a DataFrame, render the table to check success\n",
    "8. Plot Year against domestic receipts, to satisfy curiosity\n",
    "1. Save DataFrame as a .csv file"
   ]
  },
  {
   "cell_type": "code",
   "execution_count": 21,
   "metadata": {
    "collapsed": true
   },
   "outputs": [],
   "source": [
    "%matplotlib inline\n",
    "import matplotlib.pyplot as plt"
   ]
  },
  {
   "cell_type": "code",
   "execution_count": 19,
   "metadata": {
    "collapsed": false
   },
   "outputs": [
    {
     "data": {
      "text/html": [
       "<div>\n",
       "<table border=\"1\" class=\"dataframe\">\n",
       "  <thead>\n",
       "    <tr style=\"text-align: right;\">\n",
       "      <th></th>\n",
       "      <th>domestic</th>\n",
       "      <th>international</th>\n",
       "      <th>title</th>\n",
       "      <th>worldwide</th>\n",
       "      <th>year</th>\n",
       "    </tr>\n",
       "  </thead>\n",
       "  <tbody>\n",
       "    <tr>\n",
       "      <th>0</th>\n",
       "      <td>936662225</td>\n",
       "      <td>1122000000</td>\n",
       "      <td>Star Wars Ep. VII: The Force Awakens</td>\n",
       "      <td>2058662225</td>\n",
       "      <td>2015</td>\n",
       "    </tr>\n",
       "    <tr>\n",
       "      <th>1</th>\n",
       "      <td>760507625</td>\n",
       "      <td>2023411357</td>\n",
       "      <td>Avatar</td>\n",
       "      <td>2783918982</td>\n",
       "      <td>2009</td>\n",
       "    </tr>\n",
       "    <tr>\n",
       "      <th>2</th>\n",
       "      <td>658672302</td>\n",
       "      <td>1548943366</td>\n",
       "      <td>Titanic</td>\n",
       "      <td>2207615668</td>\n",
       "      <td>1997</td>\n",
       "    </tr>\n",
       "    <tr>\n",
       "      <th>3</th>\n",
       "      <td>652198010</td>\n",
       "      <td>1018130015</td>\n",
       "      <td>Jurassic World</td>\n",
       "      <td>1670328025</td>\n",
       "      <td>2015</td>\n",
       "    </tr>\n",
       "    <tr>\n",
       "      <th>4</th>\n",
       "      <td>623279547</td>\n",
       "      <td>896200000</td>\n",
       "      <td>The Avengers</td>\n",
       "      <td>1519479547</td>\n",
       "      <td>2012</td>\n",
       "    </tr>\n",
       "  </tbody>\n",
       "</table>\n",
       "</div>"
      ],
      "text/plain": [
       "    domestic  international                                 title   worldwide  \\\n",
       "0  936662225     1122000000  Star Wars Ep. VII: The Force Awakens  2058662225   \n",
       "1  760507625     2023411357                                Avatar  2783918982   \n",
       "2  658672302     1548943366                               Titanic  2207615668   \n",
       "3  652198010     1018130015                        Jurassic World  1670328025   \n",
       "4  623279547      896200000                          The Avengers  1519479547   \n",
       "\n",
       "   year  \n",
       "0  2015  \n",
       "1  2009  \n",
       "2  1997  \n",
       "3  2015  \n",
       "4  2012  "
      ]
     },
     "execution_count": 19,
     "metadata": {},
     "output_type": "execute_result"
    }
   ],
   "source": [
    "movieframe = pd.DataFrame(movieDataDict)\n",
    "movieframe.head()"
   ]
  },
  {
   "cell_type": "code",
   "execution_count": 23,
   "metadata": {
    "collapsed": false
   },
   "outputs": [
    {
     "data": {
      "text/plain": [
       "<matplotlib.axes._subplots.AxesSubplot at 0x7f2b41c97d30>"
      ]
     },
     "execution_count": 23,
     "metadata": {},
     "output_type": "execute_result"
    },
    {
     "data": {
      "image/png": "[encoded data removed]",
      "text/plain": [
       "<matplotlib.figure.Figure at 0x7f2b5d23e908>"
      ]
     },
     "metadata": {},
     "output_type": "display_data"
    }
   ],
   "source": [
    "movieframe.plot(x='year', y='domestic', kind='scatter')"
   ]
  },
  {
   "cell_type": "code",
   "execution_count": 24,
   "metadata": {
    "collapsed": true
   },
   "outputs": [],
   "source": [
    "movieframe.to_csv('movie_reciepts.csv')"
   ]
  }
 ],
 "metadata": {
  "kernelspec": {
   "display_name": "Python 3",
   "language": "python",
   "name": "python3"
  },
  "language_info": {
   "codemirror_mode": {
    "name": "ipython",
    "version": 3
   },
   "file_extension": ".py",
   "mimetype": "text/x-python",
   "name": "python",
   "nbconvert_exporter": "python",
   "pygments_lexer": "ipython3",
   "version": "3.5.1"
  }
 },
 "nbformat": 4,
 "nbformat_minor": 0
}
